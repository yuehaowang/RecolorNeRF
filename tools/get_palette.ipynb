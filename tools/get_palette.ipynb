{
 "cells": [
  {
   "cell_type": "code",
   "execution_count": null,
   "metadata": {},
   "outputs": [],
   "source": [
    "import os\n",
    "import sys\n",
    "sys.path.insert(0, '../')\n",
    "import torch\n",
    "import numpy as np\n",
    "import trimesh\n",
    "from matplotlib import pyplot as plt\n",
    "from scipy.spatial import ConvexHull\n",
    "from einops import rearrange"
   ]
  },
  {
   "cell_type": "code",
   "execution_count": null,
   "metadata": {},
   "outputs": [],
   "source": [
    "try:\n",
    "    import piplite\n",
    "    await piplite.install(['ipywidgets'])\n",
    "except ImportError:\n",
    "    pass\n",
    "import ipywidgets as widgets\n",
    "\n",
    "widgets.HTML(\"\"\"\n",
    "<style>\n",
    ".jupyter-widget-colortag {\n",
    "    height: 50px;\n",
    "}\n",
    ".jupyter-widget-colortag i {\n",
    "    margin-left: 50px;\n",
    "}\n",
    "</style>\n",
    "\"\"\")"
   ]
  },
  {
   "cell_type": "code",
   "execution_count": null,
   "metadata": {},
   "outputs": [],
   "source": [
    "from data import dataset_dict\n",
    "from utils.color import sort_palette, rgb2hex, hex2rgb\n",
    "from utils.vis import plot_palette_colors\n",
    "from utils.palette_utils.Additive_mixing_layers_extraction import Hull_Simplification_determined_version"
   ]
  },
  {
   "cell_type": "markdown",
   "metadata": {},
   "source": [
    "## Utils"
   ]
  },
  {
   "cell_type": "code",
   "execution_count": null,
   "metadata": {},
   "outputs": [],
   "source": [
    "dir_basename = lambda s: os.path.basename(os.path.normpath(s))\n",
    "\n",
    "def save_palette(dir, p, suffix=''):\n",
    "    if not os.path.exists(dir):\n",
    "        os.makedirs(dir)\n",
    "    \n",
    "    path = os.path.join(dir, f'rgb_palette{\"_\" + suffix if suffix else \"\"}.npy')\n",
    "    if os.path.exists(path):\n",
    "        print(f'CANNOT save palette: {path} exists')\n",
    "        return\n",
    "    \n",
    "    np.save(path, p)\n",
    "    print('Save palette to', path)"
   ]
  },
  {
   "cell_type": "markdown",
   "metadata": {},
   "source": [
    "## Load Data"
   ]
  },
  {
   "cell_type": "code",
   "execution_count": null,
   "metadata": {},
   "outputs": [],
   "source": [
    "dataset_type = 'llff'\n",
    "datadir = 'path/to/NeRF_datasets/nerf_synthetic/chair'\n",
    "outdir = os.path.join('../data_palette/', dir_basename(datadir))\n",
    "\n",
    "dataset = dataset_dict[dataset_type](datadir, split='train', downsample=8.0 if dataset_type == 'llff' else 1.0, is_stack=False)\n",
    "w, h = dataset.img_wh[0], dataset.img_wh[1]\n",
    "rgbs = dataset.all_rgbs\n",
    "fg = None\n",
    "if dataset.white_bg:\n",
    "    fg = torch.lt(rgbs, 1.).any(dim=-1)\n",
    "    rgbs = rgbs[fg]\n",
    "rgbs = rgbs.to(device='cpu', dtype=torch.double).numpy()"
   ]
  },
  {
   "cell_type": "markdown",
   "metadata": {},
   "source": [
    "## Create Palette"
   ]
  },
  {
   "cell_type": "code",
   "execution_count": null,
   "metadata": {},
   "outputs": [],
   "source": [
    "error_thres = 2. / 256.\n",
    "# error_thres = 1. / 500.\n",
    "palette = Hull_Simplification_determined_version(rgbs[:w*h, ...], '', error_thres=error_thres)"
   ]
  },
  {
   "cell_type": "code",
   "execution_count": null,
   "metadata": {},
   "outputs": [],
   "source": [
    "# Run this cell to view all color convex hull vertices\n",
    "hull = ConvexHull(rgbs)\n",
    "hull_vertices = hull.points[hull.vertices]\n",
    "split_chunk_indices = np.linspace(0, len(hull_vertices), len(hull_vertices) // 10, dtype=int)\n",
    "split_chunk_indices = split_chunk_indices[1:-1]\n",
    "for hull_vtx_chunk in np.array_split(hull_vertices, split_chunk_indices):\n",
    "    plot_palette_colors(hull_vtx_chunk)"
   ]
  },
  {
   "cell_type": "code",
   "execution_count": null,
   "metadata": {},
   "outputs": [],
   "source": [
    "# Use this color picker if you want to pick a color among the convex hull vertices\n",
    "widgets.ColorPicker(concise=False, description=f'Pick a color', value='#000000', disabled=False)"
   ]
  },
  {
   "cell_type": "code",
   "execution_count": null,
   "metadata": {},
   "outputs": [],
   "source": []
  },
  {
   "cell_type": "code",
   "execution_count": null,
   "metadata": {},
   "outputs": [],
   "source": [
    "print('Original palette')\n",
    "plot_palette_colors(palette)\n",
    "\n",
    "palette_sorted = palette"
   ]
  },
  {
   "cell_type": "code",
   "execution_count": null,
   "metadata": {},
   "outputs": [],
   "source": [
    "print('Drag to sort the colors in the palette')\n",
    "\n",
    "hex_palette = [rgb2hex(c) for c in palette_sorted]\n",
    "\n",
    "color_tags = widgets.ColorsInput(value=hex_palette)\n",
    "color_tags"
   ]
  },
  {
   "cell_type": "code",
   "execution_count": null,
   "metadata": {},
   "outputs": [],
   "source": [
    "palette_sorted = np.array([hex2rgb(cl) for cl in color_tags.value]).astype(np.float32) / 255.\n",
    "print('Sorted palette')\n",
    "plot_palette_colors(palette_sorted)"
   ]
  },
  {
   "cell_type": "code",
   "execution_count": null,
   "metadata": {},
   "outputs": [],
   "source": [
    "save_palette(outdir, palette_sorted)"
   ]
  },
  {
   "cell_type": "code",
   "execution_count": null,
   "metadata": {},
   "outputs": [],
   "source": []
  },
  {
   "cell_type": "markdown",
   "metadata": {},
   "source": [
    "## Visualization\n",
    "\n",
    "This section provides a very simple visualization tool, where you can roughly view the distribution of picked palette colors on input images."
   ]
  },
  {
   "cell_type": "code",
   "execution_count": null,
   "metadata": {},
   "outputs": [],
   "source": [
    "def sort_palette_w_vis(rgbs, palette_rgb, dataset=None, fg=None, plt_vote_map_idx=0,):\n",
    "    dist = rearrange(rgbs, 'N C -> N 1 C') - rearrange(palette_rgb, 'P C -> 1 P C')\n",
    "    dist = np.linalg.norm(dist, axis=-1)\n",
    "    dist = np.argmin(dist, axis=-1)\n",
    "    \n",
    "    \n",
    "    \n",
    "    if dataset is not None and dataset.white_bg and fg is not None:\n",
    "        all_rgb_cp = dataset.all_rgbs.clone().cpu().numpy()\n",
    "    else:\n",
    "        all_rgb_cp = rgbs.copy()\n",
    "    all_rgb_maps = all_rgb_cp.reshape(-1, h, w, 3)\n",
    "\n",
    "    # Show palette voting of pixels \n",
    "    palette_vote = palette_rgb[dist]\n",
    "    if fg is not None:\n",
    "        palette_vote_maps = all_rgb_cp.copy()\n",
    "        palette_vote_maps[fg] = palette_vote\n",
    "    else:\n",
    "        palette_vote_maps = palette_vote\n",
    "    palette_vote_maps = palette_vote_maps.reshape(-1, h, w, 3)\n",
    "    print(palette_vote_maps.shape)\n",
    "    \n",
    "    fig, axes = plt.subplots(1, 2)\n",
    "    axes[0].imshow(all_rgb_maps[plt_vote_map_idx])\n",
    "    axes[1].imshow(palette_vote_maps[plt_vote_map_idx])\n",
    "    \n",
    "    \n",
    "    \n",
    "    dist = np.bincount(dist)\n",
    "    \n",
    "    \n",
    "    \n",
    "    # Show palette distribution\n",
    "    plt.figure()\n",
    "    plt.bar(np.arange(0, len(palette_rgb)), dist, color=palette_rgb, edgecolor='black')\n",
    "    \n",
    "    \n",
    "    \n",
    "    dist = np.argsort(dist)\n",
    "\n",
    "    # bg = np.ones(3) if dataset.white_bg else np.zeros(3)\n",
    "    # palette_rgb = [tuple(a.tolist()) for a in palette_rgb[dist.cpu().numpy()] if not np.allclose(a, bg)]\n",
    "    # palette_rgb.append(tuple(bg.tolist()))\n",
    "    palette_rgb = [tuple(a) for a in palette_rgb[dist].tolist()]\n",
    "    return np.array(palette_rgb)\n"
   ]
  },
  {
   "cell_type": "code",
   "execution_count": null,
   "metadata": {},
   "outputs": [],
   "source": [
    "widgets.ColorPicker(concise=False, description=f'Pick a color', value='#000000', disabled=False)"
   ]
  },
  {
   "cell_type": "code",
   "execution_count": null,
   "metadata": {},
   "outputs": [],
   "source": [
    "# Run this cell to visualize 1-nn color distribution\n",
    "\n",
    "palette_sorted_ = sort_palette_w_vis(rgbs, palette_sorted, dataset=dataset, fg=fg, plt_vote_map_idx=1)\n",
    "plot_palette_colors(palette_sorted_)"
   ]
  },
  {
   "cell_type": "code",
   "execution_count": null,
   "metadata": {},
   "outputs": [],
   "source": []
  },
  {
   "cell_type": "code",
   "execution_count": null,
   "metadata": {},
   "outputs": [],
   "source": []
  }
 ],
 "metadata": {
  "kernelspec": {
   "display_name": "Python 3 (ipykernel)",
   "language": "python",
   "name": "python3"
  },
  "language_info": {
   "codemirror_mode": {
    "name": "ipython",
    "version": 3
   },
   "file_extension": ".py",
   "mimetype": "text/x-python",
   "name": "python",
   "nbconvert_exporter": "python",
   "pygments_lexer": "ipython3",
   "version": "3.8.6"
  },
  "vscode": {
   "interpreter": {
    "hash": "3e9fbb684c6692f9adab6114b782038a5025000b5f4b58eb9d35859579031213"
   }
  }
 },
 "nbformat": 4,
 "nbformat_minor": 4
}
